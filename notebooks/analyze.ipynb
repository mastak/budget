{
 "cells": [
  {
   "cell_type": "code",
   "execution_count": null,
   "metadata": {},
   "outputs": [],
   "source": [
    "import datetime as dt\n",
    "import pandas as pd\n",
    "import numpy as np\n",
    "import matplotlib.pyplot as plt\n",
    "import plotly.graph_objs as go\n",
    "import seaborn as sns\n",
    "import qgrid\n",
    "%matplotlib inline\n",
    "sns.set_style('whitegrid')"
   ]
  },
  {
   "cell_type": "code",
   "execution_count": null,
   "metadata": {},
   "outputs": [],
   "source": [
    "from plotly import __version__\n",
    "from plotly.offline import download_plotlyjs, init_notebook_mode, plot, iplot\n",
    "import cufflinks as cf\n",
    "\n",
    "# For Notebooks\n",
    "init_notebook_mode(connected=True)\n",
    "\n",
    "# For offline use\n",
    "cf.go_offline()"
   ]
  },
  {
   "cell_type": "code",
   "execution_count": null,
   "metadata": {},
   "outputs": [],
   "source": [
    "df = pd.read_csv('zen_2018-10-25_44B39350.csv')\n",
    "for col in df.columns:\n",
    "    if col != col.strip():\n",
    "        df[col.strip()] = df[col]\n",
    "        df.drop([col], inplace=True, axis=1)\n"
   ]
  },
  {
   "cell_type": "code",
   "execution_count": null,
   "metadata": {},
   "outputs": [],
   "source": [
    "to_float = lambda i: float(i.replace(',', '.'))\n",
    "df['income'] = df['income'].apply(to_float)\n",
    "df.drop(df[df['income'] > 0].index, inplace=True)\n",
    "df.drop([\n",
    "    'outcomeCurrencyShortTitle',  \n",
    "    'incomeCurrencyShortTitle', \n",
    "    'changedDate', \n",
    "    'payee', \n",
    "    'incomeAccountName',\n",
    "    'income',\n",
    "], inplace=True, axis=1) \n",
    "df['date'] = pd.to_datetime(df['date'])\n",
    "df['createdDate'] = pd.to_datetime(df['createdDate'])\n",
    "df['outcome'] = df['outcome'].apply(to_float)\n",
    "\n",
    "# df.info()\n",
    "df['month'] = df['date'].apply(lambda i: i.strftime('%B'))\n",
    "df['createdDate'] = pd.to_datetime(df['createdDate'])\n",
    "df.loc[df['categoryName'] == 'Кофе', 'categoryName'] = 'Обед'\n",
    "df.loc[df['categoryName'] == 'Салаты', 'categoryName'] = 'Продукты и домашние покупки'\n",
    "df['categoryName'] = df['categoryName'].astype('category')"
   ]
  },
  {
   "cell_type": "code",
   "execution_count": null,
   "metadata": {},
   "outputs": [],
   "source": [
    "def some(row):\n",
    "#     print(type(row['comment']), bool(row['comment']), row['comment'])\n",
    "    category, comment = row['categoryName'], row['comment']\n",
    "    if not comment or isinstance(comment, float):\n",
    "        comment = ''\n",
    "    comment = comment.lower()\n",
    "\n",
    "    if category == 'Малышка' and 'няня' in comment:\n",
    "        return 'nany'\n",
    "    return category\n",
    "df['categoryName'] = df.apply(some, axis=1)"
   ]
  },
  {
   "cell_type": "code",
   "execution_count": null,
   "metadata": {},
   "outputs": [],
   "source": [
    "df.head()"
   ]
  },
  {
   "cell_type": "code",
   "execution_count": null,
   "metadata": {},
   "outputs": [],
   "source": [
    "df.head()"
   ]
  },
  {
   "cell_type": "code",
   "execution_count": null,
   "metadata": {},
   "outputs": [],
   "source": [
    "CURR_MONTH = dt.date.today().replace(day=1)\n",
    "PREV_MONTH = (CURR_MONTH - dt.timedelta(days=10)).replace(day=1)\n",
    "if PREV_MONTH and 0:\n",
    "    prev_month_df = df[(df['date'] >= PREV_MONTH) & (df['date'] < CURR_MONTH)]\n",
    "    print(PREV_MONTH,  ' <= date < ', CURR_MONTH)\n",
    "    month_df = prev_month_df\n",
    "else:\n",
    "    print(CURR_MONTH, ' <= date')\n",
    "    month_df = df[df['date'] >= CURR_MONTH]\n",
    "\n",
    "month_sum = month_df['outcome'].sum()\n",
    "month_sum_without_rent = month_df[month_df['categoryName'] != 'Квартира и коммунальные'].sum()\n",
    "month_sum, month_sum_without_rent, CURR_MONTH.strftime('%Y-%m-01')\n"
   ]
  },
  {
   "cell_type": "code",
   "execution_count": null,
   "metadata": {},
   "outputs": [],
   "source": [
    "month_gr = pd.DataFrame(month_df.groupby('categoryName')['outcome'].sum())\n",
    "month_gr['percents'] = month_gr['outcome'] / month_sum * 100\n",
    "month_gr.sort_values('outcome', ascending=False, inplace=True)\n",
    "month_gr.reset_index(inplace=True)\n",
    "month_gr"
   ]
  },
  {
   "cell_type": "code",
   "execution_count": null,
   "metadata": {},
   "outputs": [],
   "source": [
    "month_name = CURR_MONTH.strftime('%B')\n",
    "layout = go.Layout(\n",
    "    title=f'Outcome - {month_name}',\n",
    "    showlegend=False,   \n",
    ")\n",
    "\n",
    "# for i, row in month_gr.iterrows():\n",
    "#     layout['annotations'].append(\n",
    "#         dict(\n",
    "#             x=row['categoryName'], \n",
    "#             y=row['outcome'] + 300, \n",
    "#             text=f\"{row['percents']:0.2f}%\",\n",
    "#             font=dict(family='Arial', size=14),\n",
    "#             showarrow=False,            \n",
    "#         )\n",
    "#     )\n",
    "\n",
    "# month_gr.iplot(kind='bar',x='categoryName',y='outcome', layout=layout)"
   ]
  },
  {
   "cell_type": "code",
   "execution_count": null,
   "metadata": {},
   "outputs": [],
   "source": [
    "df_pivot = df.pivot_table(index='date', columns='categoryName', values='outcome', aggfunc=sum)\n",
    "df_pivot.resample('M').sum().iplot(kind='bar', barmode='group')"
   ]
  },
  {
   "cell_type": "code",
   "execution_count": null,
   "metadata": {},
   "outputs": [],
   "source": [
    "df_index = df.set_index('date')\n",
    "# df_index.resample('M')['outcome'].sum()\n",
    "df_index[df_index['categoryName'] != 'Заграницу'].resample('M').sum().iplot(kind='bar', barmode='group')"
   ]
  },
  {
   "cell_type": "code",
   "execution_count": null,
   "metadata": {
    "scrolled": false
   },
   "outputs": [],
   "source": [
    "qgrid.QgridWidget(df=df, show_toolbar=True)"
   ]
  },
  {
   "cell_type": "code",
   "execution_count": null,
   "metadata": {},
   "outputs": [],
   "source": [
    "month_df.sort_values('outcome', ascending=False)[['categoryName', 'comment', 'outcome', 'date']]"
   ]
  },
  {
   "cell_type": "code",
   "execution_count": null,
   "metadata": {},
   "outputs": [],
   "source": [
    "future = {\n",
    "    \"Квартира и коммунальные\": 15000,\n",
    "    \"Продукты и домашние покупки\": 10000,\n",
    "    \"Кафе и рестораны\": 4000,\n",
    "    \"Медицина\": 1000,\n",
    "    \"Развлечения, хобби и подарки\": 1000,\n",
    "    \"Малышка\": 4000, #(Бодики + Коврик + Стульчик)\n",
    "    \"Барбос\": 1000,\n",
    "    \"Обед\": 2500,\n",
    "    \"Подарок\": 800, # (Подарок Насте)    \n",
    "    \"Красота\": 2500,\n",
    "    \"Одежда и Обувь\": 1500,  #(Футболки Игорю)\n",
    "    \"Транспорт\": 2000,\n",
    "    \"Уборка\": 1600,\n",
    "    \"Заграницу\": 21000,  # AirBNB\n",
    "    \"Налоги\": 3000,\n",
    "    \n",
    "#     \"Спорт и здоровый образ жизни\": 11000,  # (Басейн + Спортлайф)    \n",
    "#     \"Долг\": 7000,\n",
    "    \"Родители и родственники - поддержка\": 3000,    \n",
    "#     \"часы\": 7000,\n",
    "}    \n",
    "sum(future.values())    \n",
    "    \n",
    "    "
   ]
  },
  {
   "cell_type": "code",
   "execution_count": null,
   "metadata": {},
   "outputs": [],
   "source": [
    "df['categoryName'].unique()"
   ]
  },
  {
   "cell_type": "code",
   "execution_count": null,
   "metadata": {},
   "outputs": [],
   "source": [
    "df[df['categoryName']=='Развлечения, хобби и подарки']"
   ]
  },
  {
   "cell_type": "code",
   "execution_count": null,
   "metadata": {},
   "outputs": [],
   "source": []
  },
  {
   "cell_type": "code",
   "execution_count": null,
   "metadata": {},
   "outputs": [],
   "source": []
  },
  {
   "cell_type": "code",
   "execution_count": null,
   "metadata": {},
   "outputs": [],
   "source": []
  },
  {
   "cell_type": "code",
   "execution_count": null,
   "metadata": {},
   "outputs": [],
   "source": []
  }
 ],
 "metadata": {
  "kernelspec": {
   "display_name": "Python 3",
   "language": "python",
   "name": "python3"
  },
  "language_info": {
   "codemirror_mode": {
    "name": "ipython",
    "version": 3
   },
   "file_extension": ".py",
   "mimetype": "text/x-python",
   "name": "python",
   "nbconvert_exporter": "python",
   "pygments_lexer": "ipython3",
   "version": "3.6.3"
  }
 },
 "nbformat": 4,
 "nbformat_minor": 2
}
